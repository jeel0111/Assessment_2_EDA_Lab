{
 "cells": [
  {
   "cell_type": "code",
   "execution_count": 2,
   "id": "b677a018",
   "metadata": {},
   "outputs": [],
   "source": [
    "import pandas as pd\n",
    "import numpy as np\n",
    "import matplotlib.pyplot as plt\n",
    "import seaborn as sns\n",
    "from sklearn.experimental import enable_iterative_imputer\n",
    "from sklearn.impute import IterativeImputer\n",
    "from sklearn.linear_model import BayesianRidge, LogisticRegression\n",
    "from scipy import stats"
   ]
  },
  {
   "cell_type": "code",
   "execution_count": 26,
   "id": "90f17591",
   "metadata": {},
   "outputs": [
    {
     "data": {
      "text/html": [
       "<div>\n",
       "<style scoped>\n",
       "    .dataframe tbody tr th:only-of-type {\n",
       "        vertical-align: middle;\n",
       "    }\n",
       "\n",
       "    .dataframe tbody tr th {\n",
       "        vertical-align: top;\n",
       "    }\n",
       "\n",
       "    .dataframe thead th {\n",
       "        text-align: right;\n",
       "    }\n",
       "</style>\n",
       "<table border=\"1\" class=\"dataframe\">\n",
       "  <thead>\n",
       "    <tr style=\"text-align: right;\">\n",
       "      <th></th>\n",
       "      <th>PassengerId</th>\n",
       "      <th>Survived</th>\n",
       "      <th>Pclass</th>\n",
       "      <th>Name</th>\n",
       "      <th>Sex</th>\n",
       "      <th>Age</th>\n",
       "      <th>SibSp</th>\n",
       "      <th>Parch</th>\n",
       "      <th>Ticket</th>\n",
       "      <th>Fare</th>\n",
       "      <th>Cabin</th>\n",
       "      <th>Embarked</th>\n",
       "    </tr>\n",
       "  </thead>\n",
       "  <tbody>\n",
       "    <tr>\n",
       "      <th>0</th>\n",
       "      <td>1</td>\n",
       "      <td>0</td>\n",
       "      <td>3</td>\n",
       "      <td>Braund, Mr. Owen Harris</td>\n",
       "      <td>male</td>\n",
       "      <td>22.0</td>\n",
       "      <td>1</td>\n",
       "      <td>0</td>\n",
       "      <td>A/5 21171</td>\n",
       "      <td>7.2500</td>\n",
       "      <td>NaN</td>\n",
       "      <td>S</td>\n",
       "    </tr>\n",
       "    <tr>\n",
       "      <th>1</th>\n",
       "      <td>2</td>\n",
       "      <td>1</td>\n",
       "      <td>1</td>\n",
       "      <td>Cumings, Mrs. John Bradley (Florence Briggs Th...</td>\n",
       "      <td>female</td>\n",
       "      <td>38.0</td>\n",
       "      <td>1</td>\n",
       "      <td>0</td>\n",
       "      <td>PC 17599</td>\n",
       "      <td>71.2833</td>\n",
       "      <td>C85</td>\n",
       "      <td>C</td>\n",
       "    </tr>\n",
       "    <tr>\n",
       "      <th>2</th>\n",
       "      <td>3</td>\n",
       "      <td>1</td>\n",
       "      <td>3</td>\n",
       "      <td>Heikkinen, Miss. Laina</td>\n",
       "      <td>female</td>\n",
       "      <td>26.0</td>\n",
       "      <td>0</td>\n",
       "      <td>0</td>\n",
       "      <td>STON/O2. 3101282</td>\n",
       "      <td>7.9250</td>\n",
       "      <td>NaN</td>\n",
       "      <td>S</td>\n",
       "    </tr>\n",
       "    <tr>\n",
       "      <th>3</th>\n",
       "      <td>4</td>\n",
       "      <td>1</td>\n",
       "      <td>1</td>\n",
       "      <td>Futrelle, Mrs. Jacques Heath (Lily May Peel)</td>\n",
       "      <td>female</td>\n",
       "      <td>35.0</td>\n",
       "      <td>1</td>\n",
       "      <td>0</td>\n",
       "      <td>113803</td>\n",
       "      <td>53.1000</td>\n",
       "      <td>C123</td>\n",
       "      <td>S</td>\n",
       "    </tr>\n",
       "    <tr>\n",
       "      <th>4</th>\n",
       "      <td>5</td>\n",
       "      <td>0</td>\n",
       "      <td>3</td>\n",
       "      <td>Allen, Mr. William Henry</td>\n",
       "      <td>male</td>\n",
       "      <td>35.0</td>\n",
       "      <td>0</td>\n",
       "      <td>0</td>\n",
       "      <td>373450</td>\n",
       "      <td>8.0500</td>\n",
       "      <td>NaN</td>\n",
       "      <td>S</td>\n",
       "    </tr>\n",
       "    <tr>\n",
       "      <th>...</th>\n",
       "      <td>...</td>\n",
       "      <td>...</td>\n",
       "      <td>...</td>\n",
       "      <td>...</td>\n",
       "      <td>...</td>\n",
       "      <td>...</td>\n",
       "      <td>...</td>\n",
       "      <td>...</td>\n",
       "      <td>...</td>\n",
       "      <td>...</td>\n",
       "      <td>...</td>\n",
       "      <td>...</td>\n",
       "    </tr>\n",
       "    <tr>\n",
       "      <th>886</th>\n",
       "      <td>887</td>\n",
       "      <td>0</td>\n",
       "      <td>2</td>\n",
       "      <td>Montvila, Rev. Juozas</td>\n",
       "      <td>male</td>\n",
       "      <td>27.0</td>\n",
       "      <td>0</td>\n",
       "      <td>0</td>\n",
       "      <td>211536</td>\n",
       "      <td>13.0000</td>\n",
       "      <td>NaN</td>\n",
       "      <td>S</td>\n",
       "    </tr>\n",
       "    <tr>\n",
       "      <th>887</th>\n",
       "      <td>888</td>\n",
       "      <td>1</td>\n",
       "      <td>1</td>\n",
       "      <td>Graham, Miss. Margaret Edith</td>\n",
       "      <td>female</td>\n",
       "      <td>19.0</td>\n",
       "      <td>0</td>\n",
       "      <td>0</td>\n",
       "      <td>112053</td>\n",
       "      <td>30.0000</td>\n",
       "      <td>B42</td>\n",
       "      <td>S</td>\n",
       "    </tr>\n",
       "    <tr>\n",
       "      <th>888</th>\n",
       "      <td>889</td>\n",
       "      <td>0</td>\n",
       "      <td>3</td>\n",
       "      <td>Johnston, Miss. Catherine Helen \"Carrie\"</td>\n",
       "      <td>female</td>\n",
       "      <td>NaN</td>\n",
       "      <td>1</td>\n",
       "      <td>2</td>\n",
       "      <td>W./C. 6607</td>\n",
       "      <td>23.4500</td>\n",
       "      <td>NaN</td>\n",
       "      <td>S</td>\n",
       "    </tr>\n",
       "    <tr>\n",
       "      <th>889</th>\n",
       "      <td>890</td>\n",
       "      <td>1</td>\n",
       "      <td>1</td>\n",
       "      <td>Behr, Mr. Karl Howell</td>\n",
       "      <td>male</td>\n",
       "      <td>26.0</td>\n",
       "      <td>0</td>\n",
       "      <td>0</td>\n",
       "      <td>111369</td>\n",
       "      <td>30.0000</td>\n",
       "      <td>C148</td>\n",
       "      <td>C</td>\n",
       "    </tr>\n",
       "    <tr>\n",
       "      <th>890</th>\n",
       "      <td>891</td>\n",
       "      <td>0</td>\n",
       "      <td>3</td>\n",
       "      <td>Dooley, Mr. Patrick</td>\n",
       "      <td>male</td>\n",
       "      <td>32.0</td>\n",
       "      <td>0</td>\n",
       "      <td>0</td>\n",
       "      <td>370376</td>\n",
       "      <td>7.7500</td>\n",
       "      <td>NaN</td>\n",
       "      <td>Q</td>\n",
       "    </tr>\n",
       "  </tbody>\n",
       "</table>\n",
       "<p>891 rows × 12 columns</p>\n",
       "</div>"
      ],
      "text/plain": [
       "     PassengerId  Survived  Pclass  \\\n",
       "0              1         0       3   \n",
       "1              2         1       1   \n",
       "2              3         1       3   \n",
       "3              4         1       1   \n",
       "4              5         0       3   \n",
       "..           ...       ...     ...   \n",
       "886          887         0       2   \n",
       "887          888         1       1   \n",
       "888          889         0       3   \n",
       "889          890         1       1   \n",
       "890          891         0       3   \n",
       "\n",
       "                                                  Name     Sex   Age  SibSp  \\\n",
       "0                              Braund, Mr. Owen Harris    male  22.0      1   \n",
       "1    Cumings, Mrs. John Bradley (Florence Briggs Th...  female  38.0      1   \n",
       "2                               Heikkinen, Miss. Laina  female  26.0      0   \n",
       "3         Futrelle, Mrs. Jacques Heath (Lily May Peel)  female  35.0      1   \n",
       "4                             Allen, Mr. William Henry    male  35.0      0   \n",
       "..                                                 ...     ...   ...    ...   \n",
       "886                              Montvila, Rev. Juozas    male  27.0      0   \n",
       "887                       Graham, Miss. Margaret Edith  female  19.0      0   \n",
       "888           Johnston, Miss. Catherine Helen \"Carrie\"  female   NaN      1   \n",
       "889                              Behr, Mr. Karl Howell    male  26.0      0   \n",
       "890                                Dooley, Mr. Patrick    male  32.0      0   \n",
       "\n",
       "     Parch            Ticket     Fare Cabin Embarked  \n",
       "0        0         A/5 21171   7.2500   NaN        S  \n",
       "1        0          PC 17599  71.2833   C85        C  \n",
       "2        0  STON/O2. 3101282   7.9250   NaN        S  \n",
       "3        0            113803  53.1000  C123        S  \n",
       "4        0            373450   8.0500   NaN        S  \n",
       "..     ...               ...      ...   ...      ...  \n",
       "886      0            211536  13.0000   NaN        S  \n",
       "887      0            112053  30.0000   B42        S  \n",
       "888      2        W./C. 6607  23.4500   NaN        S  \n",
       "889      0            111369  30.0000  C148        C  \n",
       "890      0            370376   7.7500   NaN        Q  \n",
       "\n",
       "[891 rows x 12 columns]"
      ]
     },
     "execution_count": 26,
     "metadata": {},
     "output_type": "execute_result"
    }
   ],
   "source": [
    "# Load the dataset\n",
    "url = \"https://raw.githubusercontent.com/datasciencedojo/datasets/master/titanic.csv\"\n",
    "df = pd.read_csv(url)\n",
    "df"
   ]
  },
  {
   "cell_type": "code",
   "execution_count": 4,
   "id": "38ac8051",
   "metadata": {},
   "outputs": [
    {
     "name": "stdout",
     "output_type": "stream",
     "text": [
      "Missing Values Summary:\n",
      "PassengerId      0\n",
      "Survived         0\n",
      "Pclass           0\n",
      "Name             0\n",
      "Sex              0\n",
      "Age            177\n",
      "SibSp            0\n",
      "Parch            0\n",
      "Ticket           0\n",
      "Fare             0\n",
      "Cabin          687\n",
      "Embarked         2\n",
      "dtype: int64\n",
      "\n",
      "Total missing values: 866\n",
      "Dataset shape: (891, 12)\n"
     ]
    }
   ],
   "source": [
    "# Display missing values summary\n",
    "print(\"Missing Values Summary:\")\n",
    "print(df.isnull().sum())\n",
    "print(f\"\\nTotal missing values: {df.isnull().sum().sum()}\")\n",
    "print(f\"Dataset shape: {df.shape}\")"
   ]
  },
  {
   "cell_type": "code",
   "execution_count": 5,
   "id": "93433eb8",
   "metadata": {},
   "outputs": [
    {
     "data": {
      "text/plain": [
       "<Figure size 1500x1000 with 0 Axes>"
      ]
     },
     "execution_count": 5,
     "metadata": {},
     "output_type": "execute_result"
    },
    {
     "data": {
      "text/plain": [
       "<Figure size 1500x1000 with 0 Axes>"
      ]
     },
     "metadata": {},
     "output_type": "display_data"
    }
   ],
   "source": [
    "# Create visualizations\n",
    "plt.figure(figsize=(15, 10))"
   ]
  },
  {
   "cell_type": "code",
   "execution_count": 6,
   "id": "51f1af3c",
   "metadata": {},
   "outputs": [
    {
     "data": {
      "text/plain": [
       "Text(0.5, 0, 'Percentage Missing')"
      ]
     },
     "execution_count": 6,
     "metadata": {},
     "output_type": "execute_result"
    },
    {
     "data": {
      "image/png": "[encoded data removed]",
      "text/plain": [
       "<Figure size 640x480 with 1 Axes>"
      ]
     },
     "metadata": {},
     "output_type": "display_data"
    }
   ],
   "source": [
    "# Bar chart of missing percentages\n",
    "plt.subplot(2, 2, 1)\n",
    "missing_percent = (df.isnull().sum() / len(df)) * 100\n",
    "missing_percent = missing_percent[missing_percent > 0]\n",
    "missing_percent.sort_values().plot(kind='barh')\n",
    "plt.title('Percentage of Missing Values by Column')\n",
    "plt.xlabel('Percentage Missing')"
   ]
  },
  {
   "cell_type": "code",
   "execution_count": 7,
   "id": "726cacf6",
   "metadata": {},
   "outputs": [
    {
     "data": {
      "text/plain": [
       "Text(344.98989898989896, 0.5, 'Passengers')"
      ]
     },
     "execution_count": 7,
     "metadata": {},
     "output_type": "execute_result"
    },
    {
     "data": {
      "image/png": "[encoded data removed]",
      "text/plain": [
       "<Figure size 640x480 with 1 Axes>"
      ]
     },
     "metadata": {},
     "output_type": "display_data"
    }
   ],
   "source": [
    "# Create a missingness matrix manually\n",
    "plt.subplot(2, 2, 2)\n",
    "missing_matrix = df.isnull().astype(int)\n",
    "sns.heatmap(missing_matrix, cbar=False, yticklabels=False)\n",
    "plt.title('Missing Data Pattern Heatmap')\n",
    "plt.ylabel('Passengers')"
   ]
  },
  {
   "cell_type": "code",
   "execution_count": 8,
   "id": "ffb1e7fe",
   "metadata": {},
   "outputs": [
    {
     "data": {
      "image/png": "[encoded data removed]",
      "text/plain": [
       "<Figure size 640x480 with 1 Axes>"
      ]
     },
     "metadata": {},
     "output_type": "display_data"
    }
   ],
   "source": [
    "# Distribution of missing values by passenger class\n",
    "plt.subplot(2, 2, 3)\n",
    "df['age_missing'] = df['Age'].isnull()\n",
    "class_missing = df.groupby('Pclass')['age_missing'].mean() * 100\n",
    "class_missing.plot(kind='bar')\n",
    "plt.title('Age Missingness by Passenger Class')\n",
    "plt.ylabel('Percentage Missing')\n",
    "plt.xlabel('Passenger Class')\n",
    "\n",
    "plt.tight_layout()\n",
    "plt.show()\n"
   ]
  },
  {
   "cell_type": "code",
   "execution_count": 9,
   "id": "e1760078",
   "metadata": {},
   "outputs": [],
   "source": [
    "# Test relationship between Age missingness and other variables\n",
    "df['age_missing'] = df['Age'].isnull().astype(int)\n"
   ]
  },
  {
   "cell_type": "code",
   "execution_count": 10,
   "id": "fbd88d67",
   "metadata": {},
   "outputs": [
    {
     "name": "stdout",
     "output_type": "stream",
     "text": [
      "Age Missingness by Passenger Class:\n",
      "Pclass\n",
      "1    0.138889\n",
      "2    0.059783\n",
      "3    0.276986\n",
      "Name: age_missing, dtype: float64\n"
     ]
    }
   ],
   "source": [
    "# Check missingness by Pclass\n",
    "print(\"Age Missingness by Passenger Class:\")\n",
    "print(df.groupby('Pclass')['age_missing'].mean())\n"
   ]
  },
  {
   "cell_type": "code",
   "execution_count": 11,
   "id": "7479a4f1",
   "metadata": {},
   "outputs": [],
   "source": [
    "# Statistical test for difference in means\n",
    "class1 = df[df['Pclass'] == 1]['age_missing']\n",
    "class2 = df[df['Pclass'] == 2]['age_missing']\n",
    "class3 = df[df['Pclass'] == 3]['age_missing']\n"
   ]
  },
  {
   "cell_type": "code",
   "execution_count": 12,
   "id": "b5044297",
   "metadata": {},
   "outputs": [
    {
     "name": "stdout",
     "output_type": "stream",
     "text": [
      "\n",
      "Chi-square test for Age missingness by Pclass: p-value = 0.0000\n"
     ]
    }
   ],
   "source": [
    "# Chi-square test for independence\n",
    "contingency_table = pd.crosstab(df['Pclass'], df['age_missing'])\n",
    "chi2, p_value, dof, expected = stats.chi2_contingency(contingency_table)\n",
    "print(f\"\\nChi-square test for Age missingness by Pclass: p-value = {p_value:.4f}\")\n"
   ]
  },
  {
   "cell_type": "code",
   "execution_count": 13,
   "id": "822cd4ba",
   "metadata": {},
   "outputs": [
    {
     "name": "stdout",
     "output_type": "stream",
     "text": [
      "T-test for fare difference: p-value = 0.0001\n"
     ]
    }
   ],
   "source": [
    "# Check if fare differs between those with and without age\n",
    "has_age = df[df['Age'].notnull()]['Fare']\n",
    "no_age = df[df['Age'].isnull()]['Fare']\n",
    "t_stat, p_value_fare = stats.ttest_ind(has_age, no_age, equal_var=False, nan_policy='omit')\n",
    "print(f\"T-test for fare difference: p-value = {p_value_fare:.4f}\")\n"
   ]
  },
  {
   "cell_type": "code",
   "execution_count": 15,
   "id": "6f0f693e",
   "metadata": {},
   "outputs": [
    {
     "name": "stdout",
     "output_type": "stream",
     "text": [
      "Fare comparison:\n",
      "With cabin info: Mean fare = $76.14\n",
      "Without cabin info: Mean fare = $19.16\n"
     ]
    }
   ],
   "source": [
    "# Compare fare distribution for passengers with/without cabin info\n",
    "has_cabin = df[df['Cabin'].notnull()]\n",
    "no_cabin = df[df['Cabin'].isnull()]\n",
    "\n",
    "print(\"Fare comparison:\")\n",
    "print(f\"With cabin info: Mean fare = ${has_cabin['Fare'].mean():.2f}\")\n",
    "print(f\"Without cabin info: Mean fare = ${no_cabin['Fare'].mean():.2f}\")\n",
    "\n"
   ]
  },
  {
   "cell_type": "code",
   "execution_count": 17,
   "id": "1a70cb26",
   "metadata": {},
   "outputs": [
    {
     "name": "stdout",
     "output_type": "stream",
     "text": [
      "T-test p-value: 0.0000\n"
     ]
    }
   ],
   "source": [
    "# T-test for fare difference\n",
    "t_stat, p_value = stats.ttest_ind(has_cabin['Fare'].dropna(), no_cabin['Fare'].dropna(), equal_var=False)\n",
    "print(f\"T-test p-value: {p_value:.4f}\")"
   ]
  },
  {
   "cell_type": "code",
   "execution_count": 18,
   "id": "6e8a0d04",
   "metadata": {},
   "outputs": [
    {
     "name": "stdout",
     "output_type": "stream",
     "text": [
      "\n",
      "Cabin missingness by passenger class:\n",
      "Pclass\n",
      "1    0.814815\n",
      "2    0.086957\n",
      "3    0.024440\n",
      "Name: Cabin, dtype: float64\n"
     ]
    }
   ],
   "source": [
    "# Check relationship with passenger class\n",
    "print(\"\\nCabin missingness by passenger class:\")\n",
    "cabin_by_class = df.groupby('Pclass')['Cabin'].apply(lambda x: x.notnull().mean())\n",
    "print(cabin_by_class)"
   ]
  },
  {
   "cell_type": "code",
   "execution_count": 19,
   "id": "b32e74e7",
   "metadata": {},
   "outputs": [],
   "source": [
    "# Prepare data for imputation\n",
    "df_impute = df.copy()\n"
   ]
  },
  {
   "cell_type": "code",
   "execution_count": 20,
   "id": "a82febce",
   "metadata": {},
   "outputs": [],
   "source": [
    "# Convert categorical variables to numeric\n",
    "df_impute['Sex'] = df_impute['Sex'].map({'male': 0, 'female': 1})\n",
    "embarked_mapping = {'C': 0, 'Q': 1, 'S': 2}\n",
    "df_impute['Embarked'] = df_impute['Embarked'].map(embarked_mapping)\n"
   ]
  },
  {
   "cell_type": "code",
   "execution_count": 21,
   "id": "fa7acb99",
   "metadata": {},
   "outputs": [],
   "source": [
    "# Select variables for imputation (focusing on Age)\n",
    "impute_vars = ['Age', 'Fare', 'Pclass', 'Sex', 'SibSp', 'Parch', 'Embarked']\n"
   ]
  },
  {
   "cell_type": "code",
   "execution_count": 22,
   "id": "0759d484",
   "metadata": {},
   "outputs": [],
   "source": [
    "# Use Iterative Imputer (MLE-based)\n",
    "imputer = IterativeImputer(estimator=BayesianRidge(), max_iter=10, random_state=42)"
   ]
  },
  {
   "cell_type": "code",
   "execution_count": 23,
   "id": "28c5671f",
   "metadata": {},
   "outputs": [],
   "source": [
    "# Impute missing values for Age\n",
    "df_impute[impute_vars] = imputer.fit_transform(df_impute[impute_vars])\n"
   ]
  },
  {
   "cell_type": "code",
   "execution_count": 24,
   "id": "6764172c",
   "metadata": {},
   "outputs": [
    {
     "name": "stdout",
     "output_type": "stream",
     "text": [
      "Original Age statistics:\n",
      "Mean: 29.70, Std: 14.53\n",
      "\n",
      "MLE-imputed Age statistics:\n",
      "Mean: 29.23, Std: 13.65\n",
      "\n",
      "Mean-imputed Age statistics:\n",
      "Mean: 29.70, Std: 13.00\n"
     ]
    },
    {
     "name": "stderr",
     "output_type": "stream",
     "text": [
      "/var/folders/07/bwb0cbq14pj8hwk6lp4grzz80000gn/T/ipykernel_16015/955272978.py:3: FutureWarning: A value is trying to be set on a copy of a DataFrame or Series through chained assignment using an inplace method.\n",
      "The behavior will change in pandas 3.0. This inplace method will never work because the intermediate object on which we are setting values always behaves as a copy.\n",
      "\n",
      "For example, when doing 'df[col].method(value, inplace=True)', try using 'df.method({col: value}, inplace=True)' or df[col] = df[col].method(value) instead, to perform the operation inplace on the original object.\n",
      "\n",
      "\n",
      "  df_mean_impute['Age'].fillna(df_mean_impute['Age'].mean(), inplace=True)\n"
     ]
    }
   ],
   "source": [
    "# For comparison, let's also use simple mean imputation\n",
    "df_mean_impute = df.copy()\n",
    "df_mean_impute['Age'].fillna(df_mean_impute['Age'].mean(), inplace=True)\n",
    "\n",
    "print(\"Original Age statistics:\")\n",
    "print(f\"Mean: {df['Age'].mean():.2f}, Std: {df['Age'].std():.2f}\")\n",
    "\n",
    "print(\"\\nMLE-imputed Age statistics:\")\n",
    "print(f\"Mean: {df_impute['Age'].mean():.2f}, Std: {df_impute['Age'].std():.2f}\")\n",
    "\n",
    "print(\"\\nMean-imputed Age statistics:\")\n",
    "print(f\"Mean: {df_mean_impute['Age'].mean():.2f}, Std: {df_mean_impute['Age'].std():.2f}\")\n"
   ]
  },
  {
   "cell_type": "code",
   "execution_count": 25,
   "id": "7c7ab243",
   "metadata": {},
   "outputs": [
    {
     "data": {
      "image/png": "[encoded data removed]",
      "text/plain": [
       "<Figure size 1200x500 with 2 Axes>"
      ]
     },
     "metadata": {},
     "output_type": "display_data"
    }
   ],
   "source": [
    "# Compare distributions\n",
    "plt.figure(figsize=(12, 5))\n",
    "plt.subplot(1, 2, 1)\n",
    "plt.hist(df['Age'].dropna(), alpha=0.7, label='Original', bins=20)\n",
    "plt.hist(df_impute['Age'], alpha=0.7, label='MLE Imputed', bins=20)\n",
    "plt.legend()\n",
    "plt.title('Age Distribution: Original vs MLE Imputed')\n",
    "\n",
    "plt.subplot(1, 2, 2)\n",
    "plt.hist(df['Age'].dropna(), alpha=0.7, label='Original', bins=20)\n",
    "plt.hist(df_mean_impute['Age'], alpha=0.7, label='Mean Imputed', bins=20)\n",
    "plt.legend()\n",
    "plt.title('Age Distribution: Original vs Mean Imputed')\n",
    "\n",
    "plt.tight_layout()\n",
    "plt.show()"
   ]
  },
  {
   "cell_type": "code",
   "execution_count": null,
   "id": "8fd74bcf",
   "metadata": {},
   "outputs": [],
   "source": []
  }
 ],
 "metadata": {
  "kernelspec": {
   "display_name": "Python (venv)",
   "language": "python",
   "name": "venv"
  },
  "language_info": {
   "codemirror_mode": {
    "name": "ipython",
    "version": 3
   },
   "file_extension": ".py",
   "mimetype": "text/x-python",
   "name": "python",
   "nbconvert_exporter": "python",
   "pygments_lexer": "ipython3",
   "version": "3.13.5"
  }
 },
 "nbformat": 4,
 "nbformat_minor": 5
}
